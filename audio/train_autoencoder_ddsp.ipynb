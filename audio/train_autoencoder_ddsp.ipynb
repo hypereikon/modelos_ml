{
  "nbformat": 4,
  "nbformat_minor": 0,
  "metadata": {
    "accelerator": "GPU",
    "colab": {
      "name": "Copia de train_autoencoder.ipynb",
      "provenance": [],
      "collapsed_sections": [
        "uNhH7nEbX2db"
      ],
      "toc_visible": true
    },
    "kernelspec": {
      "display_name": "Python 3",
      "name": "python3"
    }
  },
  "cells": [
    {
      "cell_type": "markdown",
      "metadata": {
        "id": "SpXo6phTiOQM"
      },
      "source": [
        "### Entrenar un DDSP autoencoder.\n",
        "\n",
        "Este notebook permite entrenar un autoencoder para posteriormente realizar transferencia de timbre/tono con [DDSP Timbre Transfer Colab](https://colab.research.google.com/github/magenta/ddsp/blob/master/ddsp/colab/demos/timbre_transfer.ipynb).\n",
        "\n",
        "traducido por @hypereikon\n"
      ]
    },
    {
      "cell_type": "code",
      "metadata": {
        "id": "VxPuPR0j5Gs7",
        "cellView": "form"
      },
      "source": [
        "#@markdown instalar dependencias\n",
        "%tensorflow_version 2.x\n",
        "!pip install -qU ddsp[data_preparation]==1.0.1\n",
        "# Initialize global path for using google drive. \n",
        "DRIVE_DIR = ''"
      ],
      "execution_count": null,
      "outputs": []
    },
    {
      "cell_type": "code",
      "metadata": {
        "id": "m33xuTjEKazJ",
        "cellView": "form"
      },
      "source": [
        "#@markdown Montar google drive\n",
        "from google.colab import drive\n",
        "drive.mount('/content/drive')"
      ],
      "execution_count": null,
      "outputs": []
    },
    {
      "cell_type": "markdown",
      "metadata": {
        "id": "a4vmxpj1LC7m"
      },
      "source": [
        "#### Setear la carpeta base\n",
        "En drive, sube todos los archivos de audio mono (.wav, .mp3) que quieras entrenar a una carpeta.\n",
        "Funciona bien con ~20 min de sonido *monofonico*, es decir un instrumento.\n",
        "\n",
        "En el explorador de archivos de la izquierda ubica la carpeta con los archivos y dale a \"*copiar ruta*\", luego pegala abajo y ejecuta la celda."
      ]
    },
    {
      "cell_type": "code",
      "metadata": {
        "id": "A0bK6P9DMBTb",
        "cellView": "form"
      },
      "source": [
        "#@markdown carpeta donde estan los archivos de audio\n",
        "DRIVE_DIR = '/content/drive/MyDrive/ddsp anticueca' #@param {type: \"string\"}\n",
        "\n",
        "import os\n",
        "assert os.path.exists(DRIVE_DIR)\n",
        "print('Drive Folder Exists:', DRIVE_DIR)\n"
      ],
      "execution_count": null,
      "outputs": []
    },
    {
      "cell_type": "code",
      "metadata": {
        "id": "Qd22WxEQI3FV",
        "cellView": "form"
      },
      "source": [
        "#@markdown Crear directorios para guardar el modelo y los datos\n",
        "AUDIO_DIR = 'data/audio'\n",
        "AUDIO_FILEPATTERN = AUDIO_DIR + '/*'\n",
        "!mkdir -p $AUDIO_DIR\n",
        "\n",
        "if DRIVE_DIR:\n",
        "  SAVE_DIR = os.path.join(DRIVE_DIR, 'ddsp-solo-instrument')\n",
        "else:\n",
        "  SAVE_DIR = '/content/models/ddsp-solo-instrument'\n",
        "!mkdir -p \"$SAVE_DIR\""
      ],
      "execution_count": null,
      "outputs": []
    },
    {
      "cell_type": "markdown",
      "metadata": {
        "id": "fb4YD8woYD1H"
      },
      "source": [
        "#### Preparar el dataset\n"
      ]
    },
    {
      "cell_type": "markdown",
      "metadata": {
        "id": "uNhH7nEbX2db"
      },
      "source": [
        "#### Cargar audio para entrenar\n",
        "###si continuas entrenando ignora esta celda\n",
        "\n",
        "Ubicar archivos de audio para entrenar el modelo. "
      ]
    },
    {
      "cell_type": "code",
      "metadata": {
        "id": "itVKEzF6m3rY",
        "cellView": "form"
      },
      "source": [
        "#@markdown Cargar audio / Si continuas entrenando ignora esta celda\n",
        "import glob\n",
        "import os\n",
        "from ddsp.colab import colab_utils\n",
        "\n",
        "if DRIVE_DIR:\n",
        "  mp3_files = glob.glob(os.path.join(DRIVE_DIR, '*.mp3'))\n",
        "  wav_files = glob.glob(os.path.join(DRIVE_DIR, '*.wav'))\n",
        "  audio_files = mp3_files + wav_files\n",
        "else:\n",
        "  audio_files, _ = colab_utils.upload()\n",
        "\n",
        "for fname in audio_files:\n",
        "  target_name = os.path.join(AUDIO_DIR, \n",
        "                             os.path.basename(fname).replace(' ', '_'))\n",
        "  print('Copying {} to {}'.format(fname, target_name))\n",
        "  !cp \"$fname\" $target_name"
      ],
      "execution_count": null,
      "outputs": []
    },
    {
      "cell_type": "markdown",
      "metadata": {
        "id": "g_XVFoN2YOat"
      },
      "source": [
        "### Preprocesar audio a dataset TFRecord\n",
        "Necesitamos procesar el audio a un formato adecuado para entrenar.\n",
        "Esto implica inferir la frecuencia fundamental y loudness. Estos parametros se guardan en un archivo TFRecord.\n",
        "\n",
        "Si continuas entrenando ubicara los TFRecords en tu drive automaticamente."
      ]
    },
    {
      "cell_type": "code",
      "metadata": {
        "id": "MsnkAHyHVrCW",
        "cellView": "form"
      },
      "source": [
        "#@markdown crear/ubicar TFRecord\n",
        "import glob\n",
        "import os\n",
        "\n",
        "TRAIN_TFRECORD = 'data/train.tfrecord'\n",
        "TRAIN_TFRECORD_FILEPATTERN = TRAIN_TFRECORD + '*'\n",
        "\n",
        "# Copy dataset from drive if dataset has already been created.\n",
        "drive_data_dir = os.path.join(DRIVE_DIR, 'data') \n",
        "drive_dataset_files = glob.glob(drive_data_dir + '/*')\n",
        "\n",
        "if DRIVE_DIR and len(drive_dataset_files) > 0:\n",
        "  !cp \"$drive_data_dir\"/* data/\n",
        "\n",
        "else:\n",
        "  # Make a new dataset.\n",
        "  if not glob.glob(AUDIO_FILEPATTERN):\n",
        "    raise ValueError('No audio files found. Please use the previous cell to '\n",
        "                    'upload.')\n",
        "\n",
        "  !ddsp_prepare_tfrecord \\\n",
        "    --input_audio_filepatterns=$AUDIO_FILEPATTERN \\\n",
        "    --output_tfrecord_path=$TRAIN_TFRECORD \\\n",
        "    --num_shards=10 \\\n",
        "    --alsologtostderr\n",
        "\n",
        "  # Copy dataset to drive for safe-keeping.\n",
        "  if DRIVE_DIR:\n",
        "    !mkdir \"$drive_data_dir\"/\n",
        "    print('Saving to {}'.format(drive_data_dir))\n",
        "    !cp $TRAIN_TFRECORD_FILEPATTERN \"$drive_data_dir\"/"
      ],
      "execution_count": null,
      "outputs": []
    },
    {
      "cell_type": "code",
      "metadata": {
        "id": "Bp_c8P0xApY6",
        "cellView": "form"
      },
      "source": [
        "#@markdown guardar un .pkl con las estadisticas del dataset para transferencia de timbre.\n",
        "from ddsp.colab import colab_utils\n",
        "import ddsp.training\n",
        "\n",
        "data_provider = ddsp.training.data.TFRecordProvider(TRAIN_TFRECORD_FILEPATTERN)\n",
        "dataset = data_provider.get_dataset(shuffle=False)\n",
        "PICKLE_FILE_PATH = os.path.join(SAVE_DIR, 'dataset_statistics.pkl')\n",
        "\n",
        "colab_utils.save_dataset_statistics(data_provider, PICKLE_FILE_PATH, batch_size=1)"
      ],
      "execution_count": null,
      "outputs": []
    },
    {
      "cell_type": "code",
      "metadata": {
        "id": "dA-FOmRgYdpZ",
        "cellView": "form"
      },
      "source": [
        "#@markdown cargar el dataset a la libreria ddsp y ver un ejemplo\n",
        "from ddsp.colab import colab_utils\n",
        "import ddsp.training\n",
        "from matplotlib import pyplot as plt\n",
        "import numpy as np\n",
        "\n",
        "data_provider = ddsp.training.data.TFRecordProvider(TRAIN_TFRECORD_FILEPATTERN)\n",
        "dataset = data_provider.get_dataset(shuffle=False)\n",
        "\n",
        "try:\n",
        "  ex = next(iter(dataset))\n",
        "except StopIteration:\n",
        "  raise ValueError(\n",
        "      'TFRecord contains no examples. Please try re-running the pipeline with '\n",
        "      'different audio file(s).')\n",
        "\n",
        "colab_utils.specplot(ex['audio'])\n",
        "colab_utils.play(ex['audio'])\n",
        "\n",
        "f, ax = plt.subplots(3, 1, figsize=(14, 4))\n",
        "x = np.linspace(0, 4.0, 1000)\n",
        "ax[0].set_ylabel('loudness_db')\n",
        "ax[0].plot(x, ex['loudness_db'])\n",
        "ax[1].set_ylabel('F0_Hz')\n",
        "ax[1].set_xlabel('seconds')\n",
        "ax[1].plot(x, ex['f0_hz'])\n",
        "ax[2].set_ylabel('F0_confidence')\n",
        "ax[2].set_xlabel('seconds')\n",
        "ax[2].plot(x, ex['f0_confidence'])\n"
      ],
      "execution_count": null,
      "outputs": []
    },
    {
      "cell_type": "markdown",
      "metadata": {
        "id": "9gvXBa7PbuyY"
      },
      "source": [
        "## Entrenar modelo"
      ]
    },
    {
      "cell_type": "code",
      "metadata": {
        "id": "u2lx7yJneUXT",
        "cellView": "form"
      },
      "source": [
        "#@markdown Primero, activar Tensorboard para monitorear las perdidas y el desarrollo del entrenamiento.\n",
        "%reload_ext tensorboard\n",
        "import tensorboard as tb\n",
        "tb.notebook.start('--logdir \"{}\"'.format(SAVE_DIR))"
      ],
      "execution_count": null,
      "outputs": []
    },
    {
      "cell_type": "markdown",
      "metadata": {
        "id": "fT-8Koyvj46w"
      },
      "source": [
        "### Notas para el entrenamiento:\n",
        "* Los modelos performan bien cuando la perdida (loss) llega a ~4.5-5.9\n",
        "* Dependiendo del dataset esto puede demorar entre 5k-30k pasos (steps).\n",
        "* Por defecto esta seteado a 30k, pero puedes parar en cualquier momento, y para la tranferencia de timbre, es mejor parar antes de que la perdida baje mucho de ~5.0 para evitar *overfitting*.\n",
        "* En colab, esto puede demorar entre 3-20 horas.\n",
        "* Por defecto, los checkpoints se guardaran cada 300 pasos con un maximo de 10 checkpoints (~60MB/checkpoint). Ajusta estos parametros como te convenga."
      ]
    },
    {
      "cell_type": "code",
      "metadata": {
        "id": "poKO-mZEGYXZ",
        "cellView": "form"
      },
      "source": [
        "#@markdown entrenar\n",
        "!ddsp_run \\\n",
        "  --mode=train \\\n",
        "  --alsologtostderr \\\n",
        "  --save_dir=\"$SAVE_DIR\" \\\n",
        "  --gin_file=models/solo_instrument.gin \\\n",
        "  --gin_file=datasets/tfrecord.gin \\\n",
        "  --gin_param=\"TFRecordProvider.file_pattern='$TRAIN_TFRECORD_FILEPATTERN'\" \\\n",
        "  --gin_param=\"batch_size=16\" \\\n",
        "  --gin_param=\"train_util.train.num_steps=30000\" \\\n",
        "  --gin_param=\"train_util.train.steps_per_save=500\" \\\n",
        "  --gin_param=\"trainers.Trainer.checkpoints_to_keep=5\""
      ],
      "execution_count": null,
      "outputs": []
    },
    {
      "cell_type": "markdown",
      "metadata": {
        "id": "V95qxVjFzWR6"
      },
      "source": [
        "## Resintesis\n",
        "Revisa que tan bien reconstruye los datos de entrenamiento."
      ]
    },
    {
      "cell_type": "code",
      "metadata": {
        "id": "OQ5PPDZVzgFR",
        "cellView": "form"
      },
      "source": [
        "#@markdown resintesis\n",
        "from ddsp.colab.colab_utils import play, specplot\n",
        "import ddsp.training\n",
        "import gin\n",
        "from matplotlib import pyplot as plt\n",
        "import numpy as np\n",
        "\n",
        "data_provider = ddsp.training.data.TFRecordProvider(TRAIN_TFRECORD_FILEPATTERN)\n",
        "dataset = data_provider.get_batch(batch_size=1, shuffle=False)\n",
        "\n",
        "try:\n",
        "  batch = next(iter(dataset))\n",
        "except OutOfRangeError:\n",
        "  raise ValueError(\n",
        "      'TFRecord contains no examples. Please try re-running the pipeline with '\n",
        "      'different audio file(s).')\n",
        "\n",
        "# Parse the gin config.\n",
        "gin_file = os.path.join(SAVE_DIR, 'operative_config-0.gin')\n",
        "gin.parse_config_file(gin_file)\n",
        "\n",
        "# Load model\n",
        "model = ddsp.training.models.Autoencoder()\n",
        "model.restore(SAVE_DIR)\n",
        "\n",
        "# Resynthesize audio.\n",
        "outputs = model(batch, training=False)\n",
        "audio_gen = model.get_audio_from_outputs(outputs)\n",
        "audio = batch['audio']\n",
        "\n",
        "print('Original Audio')\n",
        "specplot(audio)\n",
        "play(audio)\n",
        "\n",
        "print('Resynthesis')\n",
        "specplot(audio_gen)\n",
        "play(audio_gen)"
      ],
      "execution_count": null,
      "outputs": []
    },
    {
      "cell_type": "markdown",
      "metadata": {
        "id": "ZXM2ynLQ2Wl3"
      },
      "source": [
        "## Descargar checkpoint\n",
        "\n",
        "Con la siguiente celda puedes descargar el checkpoint final para usarlo con [DDSP Timbre Tranfer Colab](https://colab.research.google.com/github/magenta/ddsp/blob/master/ddsp/colab/demos/timbre_transfer.ipynb)."
      ]
    },
    {
      "cell_type": "code",
      "metadata": {
        "id": "2WDiCyXP0tNE",
        "cellView": "form"
      },
      "source": [
        "#@markdown descargar\n",
        "from ddsp.colab import colab_utils\n",
        "import tensorflow as tf\n",
        "import os\n",
        "\n",
        "CHECKPOINT_ZIP = 'my_solo_instrument.zip'\n",
        "latest_checkpoint_fname = os.path.basename(tf.train.latest_checkpoint(SAVE_DIR))\n",
        "!cd \"$SAVE_DIR\" && zip $CHECKPOINT_ZIP $latest_checkpoint_fname* operative_config-0.gin dataset_statistics.pkl\n",
        "!cp \"$SAVE_DIR/$CHECKPOINT_ZIP\" ./\n",
        "colab_utils.download(CHECKPOINT_ZIP)"
      ],
      "execution_count": null,
      "outputs": []
    }
  ]
}