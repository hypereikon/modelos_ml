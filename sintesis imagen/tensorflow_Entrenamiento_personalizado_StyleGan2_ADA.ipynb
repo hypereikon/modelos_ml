{
  "nbformat": 4,
  "nbformat_minor": 0,
  "metadata": {
    "colab": {
      "name": "Entrenamiento_personalizado_StyleGan2-ADA.ipynb",
      "provenance": [],
      "collapsed_sections": [],
      "toc_visible": true,
      "machine_shape": "hm"
    },
    "kernelspec": {
      "name": "python3",
      "display_name": "Python 3"
    },
    "accelerator": "GPU"
  },
  "cells": [
    {
      "cell_type": "markdown",
      "metadata": {
        "id": "SI_i1MwgpzOD"
      },
      "source": [
        "#### Entrenamiento personalizado StyleGan2-ADA\n",
        "StyleGAN2-ADA solo funciona con Tensorflow 1. Es necesario ejecutar la siguiente celda antes que todo, para asegurarnos de usar TF1 y no TF2.\n",
        "\n",
        "Notebook creado por [Derrick Schultz ](https://github.com/dvschultz)y [Lia Coleman](https://github.com/Lia-C). \n",
        "Traducido al español por [Laboratorio Hypereikon](https://github.com/hypereikon), Sebastián Rojas y Constanza Lobos.\n",
        "\n",
        "\n"
      ]
    },
    {
      "cell_type": "code",
      "metadata": {
        "id": "iKYAU7Wub3WW",
        "cellView": "form"
      },
      "source": [
        "#@markdown instalar tensorflow\r\n",
        "%tensorflow_version 1.x"
      ],
      "execution_count": null,
      "outputs": []
    },
    {
      "cell_type": "markdown",
      "metadata": {
        "id": "5YcUMPQp6ipP"
      },
      "source": [
        "#### Instalar repositorio en tu drive\n",
        "\n",
        "Es complicado entrenar en colab. La mejor manera es instalando directamente el repositorio en una carpeta de google drive.\n",
        "\n",
        "\n",
        "\n"
      ]
    },
    {
      "cell_type": "code",
      "metadata": {
        "id": "pxxYlEKI9Gis",
        "cellView": "form"
      },
      "source": [
        "#@markdown Primero, montar el drive en el notebook de colab\n",
        "from google.colab import drive\n",
        "drive.mount('/content/drive')"
      ],
      "execution_count": null,
      "outputs": []
    },
    {
      "cell_type": "code",
      "metadata": {
        "id": "8HX77jscX2zV",
        "cellView": "form"
      },
      "source": [
        "#@markdown Ahora, ejecuta esta celda. Si ya instalaste previamente el repositorio, se saltará el proceso de instalación, si no lo haz instalado, instalará todos los archivos necesarios.\n",
        "import os\n",
        "if os.path.isdir(\"/content/drive/MyDrive/colab-sg2-ada\"):\n",
        "    %cd \"/content/drive/MyDrive/colab-sg2-ada/stylegan2-ada\"\n",
        "else:\n",
        "    #install script\n",
        "    %cd \"/content/drive/MyDrive/\"\n",
        "    !mkdir colab-sg2-ada\n",
        "    %cd colab-sg2-ada\n",
        "    !git clone https://github.com/dvschultz/stylegan2-ada\n",
        "    %cd stylegan2-ada\n",
        "    !mkdir downloads\n",
        "    !mkdir datasets\n",
        "\n",
        "%cd \"/content/drive/MyDrive/colab-sg2-ada/stylegan2-ada\"\n",
        "!git config --global user.name \"test\"\n",
        "!git config --global user.email \"test@test.com\"\n",
        "!git fetch origin\n",
        "!git checkout origin/main -- train.py"
      ],
      "execution_count": null,
      "outputs": []
    },
    {
      "cell_type": "markdown",
      "metadata": {
        "id": "_Q58MJbckLUc"
      },
      "source": [
        "### Convertir dataset a .tfrecords\n",
        "**Nota: Esto solo hay que ejecutarlo una vez por dataset. Si ya haz ejecutado esta celda y vuelves a continuar entrenando ignora esta celda**  \n",
        "\n",
        "Necesitamos un dataset de imagenes a 1024x1024px.\n",
        "\n",
        "Puedes subir tu dataset diractamente a Colab (como un archivo .zip), o puedes subirlo a drive y leerlo desde ahí editando `zip_path`."
      ]
    },
    {
      "cell_type": "code",
      "metadata": {
        "id": "8JUP51nJdEjz",
        "cellView": "form"
      },
      "source": [
        "#@markdown copia la ruta del .zip y descomprimelo:\n",
        "zip_path = \"/content/CAT1024.zip\"  #@param {type: \"string\"}\n",
        "\n",
        "!unzip {zip_path} -d /content/"
      ],
      "execution_count": null,
      "outputs": []
    },
    {
      "cell_type": "markdown",
      "metadata": {
        "id": "D0QH0nzjlbEE"
      },
      "source": [
        "Ahora que el dataset de imagenes ya está subido, necesitamos convertirlo al formato `.tfrecords`\n",
        "Dependiendo de la resolución de tus imagenes y cuantas tienes, esto puede tardar un rato. "
      ]
    },
    {
      "cell_type": "code",
      "metadata": {
        "id": "T-BZHhBe7AvO",
        "cellView": "form"
      },
      "source": [
        "#@markdown actualiza a la ruta de la carpeta con imagenes\n",
        "dataset_path = \"/content/CAT1024\"  #@param {type: \"string\"}\n",
        "#@markdown ponle un nombre a tu dataset\n",
        "dataset_name = \"cat1024\" #@param {type: \"string\"}\n",
        "\n",
        "#you don't need to edit anything here\n",
        "!python dataset_tool.py create_from_images ./datasets/{dataset_name} {dataset_path}"
      ],
      "execution_count": null,
      "outputs": []
    },
    {
      "cell_type": "markdown",
      "metadata": {
        "id": "8DvTupHzP2s_"
      },
      "source": [
        "## Entrenar un modelo personalizado\n",
        "\n",
        "Ahora estamos listxs para entrenar! Hay varios argumentos al entrenar, los de abajo son las opciones más utilizadas. Para ver todas las opciones, ejecuta la siguiente celda."
      ]
    },
    {
      "cell_type": "code",
      "metadata": {
        "id": "Fxu7CA0Qb1Yd",
        "cellView": "form"
      },
      "source": [
        "#@markdown detalle parametros\r\n",
        "!python train.py --help"
      ],
      "execution_count": null,
      "outputs": []
    },
    {
      "cell_type": "code",
      "metadata": {
        "id": "jOftFoyiDU3s",
        "cellView": "form"
      },
      "source": [
        "#@markdown este debe coincidir exactamente con el nombre usado para el archivo .tfrecords\n",
        "dataset_name = \"dante1024\" #@param {type: \"string\"}\n",
        "#@markdown que tan seguido el modelo debe entregar samples y respaldo del modelo en archivo .pkl\n",
        "snapshot_count = 4 #@param {type: \"number\"}\n",
        "#@markdown deberian las imagenes en la aumentacion reflejar horizontalmente?\n",
        "mirrored = True #@param {type:\"boolean\"}\n",
        "#@markdown deberian las imagenes en la aumentacion reflejar verticalmente?\n",
        "mirroredY = True #@param {type:\"boolean\"}\n",
        "#metricas? \n",
        "metric_list = None\n",
        "#@markdown aumentaciones\n",
        "augs = \"bg\" #@param {type: \"string\"}\n",
        "\n",
        "#\n",
        "#@markdown  esta es la linea más importante de actualizar\n",
        "\n",
        "#@markdown  si estas empezando a entrenar un modelo seteala a ffhq(+resolution)  \n",
        "\n",
        "#@markdown  si continuas entrenandolo, copia la ruta del del ultimo .pkl  \n",
        "resume_from = \"/content/drive/MyDrive/colab-sg2-ada2/stylegan2-ada/results/00008-dante1024-mirror-mirrory-11gb-gpu-bg-resumecustom/network-snapshot-000160.pkl\" #@param {type: \"string\"}\n",
        "\n",
        "#no editas esta a no ser que sepas lo que estás haciendo :)\n",
        "!python train.py --outdir ./results --snap={snapshot_count} --cfg=11gb-gpu --data=./datasets/{dataset_name} --augpipe={augs} --mirror={mirrored} --mirrory={mirroredY} --metrics={metric_list} --resume={resume_from} --augpipe=\"bg\""
      ],
      "execution_count": null,
      "outputs": []
    },
    {
      "cell_type": "markdown",
      "metadata": {
        "id": "lohotw1FqC54"
      },
      "source": [
        "### Mientras este entrenando...\n",
        "**Una vez esté ejecutandose la celda anterior, deberia estar entrenandose!**\n",
        "\n",
        "No cierres esta pestaña! Colab necesita estar abierto y corriendo en orden para continuar entrenando. Cada ~15min deberia entregar una nueva linea al output, indicando que sigue entrenando. Dependiendo de como seteaste `snapshot_count` guardará los checkpoints en tu carpeta de google drive con samples (`fakesXXXXXx.jpg`) y los weights del modelo (`network-snapshot-XXXXXX.pkl`). Los samples son interesantes de mirar mientras se entrena, pero no te compliques por cada sample individual.\n",
        "\n",
        "Si eliges una metrica, además te entregará los scores de cada snapshot. No te obsesiones con estos! Son solo una guia, puedes subir y bajar un poco entre cada snapshot. Lo que deberias esperar es que el score baje gradualmente con el tiempo.\n",
        "\n",
        "Una vez que Colab se apague, puedes reconectar el notebook y re-ejecutar cada celda desde arriba hasta abajo. Asegurate de actualizar la ruta de `resume_from` para continuar entrenando desde el ultimo modelo."
      ]
    }
  ]
}
