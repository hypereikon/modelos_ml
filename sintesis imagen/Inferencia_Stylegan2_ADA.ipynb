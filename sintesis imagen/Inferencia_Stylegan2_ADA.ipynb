{
  "nbformat": 4,
  "nbformat_minor": 0,
  "metadata": {
    "colab": {
      "name": "Inferencia_Stylegan2-ADA.ipynb",
      "provenance": [],
      "collapsed_sections": [
        "cg2_2g9M8mR-"
      ],
      "toc_visible": true,
      "machine_shape": "hm"
    },
    "kernelspec": {
      "name": "python3",
      "display_name": "Python 3"
    },
    "accelerator": "GPU"
  },
  "cells": [
    {
      "cell_type": "markdown",
      "metadata": {
        "id": "QMu2_LxjtBYY"
      },
      "source": [
        "Notebook creado por [Derrick Schultz](https://twitter.com/dvsch) and [Lia Coleman](https://twitter.com/Lialialiacole).\r\n",
        "\r\n",
        "Traducido por @hypereikon"
      ]
    },
    {
      "cell_type": "code",
      "metadata": {
        "id": "65PDmQ1obIl2",
        "cellView": "form"
      },
      "source": [
        "#@markdown setear tensorflow 1\n",
        "%tensorflow_version 1.x"
      ],
      "execution_count": null,
      "outputs": []
    },
    {
      "cell_type": "code",
      "metadata": {
        "id": "eCREpX4lFdzM",
        "cellView": "form"
      },
      "source": [
        "#@markdown Podemos añadir funciones para visualizar. Esta celda permitirá mostrar imagenes y videos directamente en Colab.\n",
        "from IPython.display import Image, display, HTML\n",
        "import base64\n",
        "import io\n",
        "\n",
        "def show_local_mp4_video(file_name, width=640, height=480):\n",
        "  video_encoded = base64.b64encode(io.open(file_name, 'rb').read())\n",
        "  return HTML(data='''<video width=\"{0}\" height=\"{1}\" alt=\"test\" controls>\n",
        "                        <source src=\"data:video/mp4;base64,{2}\" type=\"video/mp4\" />\n",
        "                      </video>'''.format(width, height, video_encoded.decode('ascii')))\n",
        "def make_img_grid(images,width=360):\n",
        "    html = []\n",
        "    for image in images:\n",
        "        with open(image, \"rb\") as img_file:\n",
        "            my_string = base64.b64encode(img_file.read())\n",
        "            img_uri = \"data:image/png;base64,\" + my_string.decode('utf8')\n",
        "        html.append('<img src=\"{}\" style=\"width:{}px;display:inline;margin:1px\"/>'.format(img_uri,str(width)))\n",
        "    return ''.join(html)\n",
        "    "
      ],
      "execution_count": null,
      "outputs": []
    },
    {
      "cell_type": "code",
      "metadata": {
        "id": "44vqpvoqZSIh",
        "cellView": "form"
      },
      "source": [
        "#@markdown Instalar el repositorio de StyleGAN2-ADA \n",
        "!git clone https://github.com/dvschultz/stylegan2-ada\n",
        "!pip install opensimplex\n",
        "%cd /content/stylegan2-ada"
      ],
      "execution_count": null,
      "outputs": []
    },
    {
      "cell_type": "markdown",
      "metadata": {
        "id": "bMZDvIjK8JwS"
      },
      "source": [
        "##Descargar un modelo StyleGAN2-ADA\n",
        "Modelos:\n",
        "\n",
        "Wikiart\n",
        "https://archive.org/download/wikiart-stylegan2-conditional-model/WikiArt_Uncond2.pkl\n",
        "\n",
        "Metfaces\n",
        "https://nvlabs-fi-cdn.nvidia.com/stylegan2-ada/pretrained/metfaces.pkl\n",
        "\n",
        "FFHQ\n",
        "https://nvlabs-fi-cdn.nvidia.com/stylegan2-ada/pretrained/ffhq.pkl"
      ]
    },
    {
      "cell_type": "code",
      "metadata": {
        "id": "CJ2zdnsfe49D"
      },
      "source": [
        "!wget https://archive.org/download/wikiart-stylegan2-conditional-model/WikiArt_Uncond2.pkl -O /content/network.pkl"
      ],
      "execution_count": null,
      "outputs": []
    },
    {
      "cell_type": "code",
      "metadata": {
        "id": "Lqvan3-OREPP"
      },
      "source": [
        "#!gdown --id 10e6uRa9Qxx_pano8QGVXrStqM-r3dcEd -O /content/network.pkl"
      ],
      "execution_count": null,
      "outputs": []
    },
    {
      "cell_type": "markdown",
      "metadata": {
        "id": "R_rEEbkz8OA7"
      },
      "source": [
        "## Generacion\n",
        "\n",
        "Tambien se le llama inferencia, evaluación o testeo del modelo."
      ]
    },
    {
      "cell_type": "code",
      "metadata": {
        "id": "RDYBQIEKOE6P",
        "cellView": "form"
      },
      "source": [
        "#@markdown detalle parametros\r\n",
        "!python generate.py --help"
      ],
      "execution_count": null,
      "outputs": []
    },
    {
      "cell_type": "markdown",
      "metadata": {
        "id": "bdQGheIa8-x7"
      },
      "source": [
        "####Generacion de imagenes\n",
        "\n",
        "`--network`: Asegurate que el argumento de `--network` apunte a tu archivo .pkl . \n",
        "(El metodo más utilizado es hacer click derecho en el archivo del panel de archivos y seleccionar `Copy Path`, luego pegar esto en el argumento despues del signo `=`)\n",
        "\n",
        "`--seeds`: Esto te permite elegir un seed random desde el modelo. Recuerda que el input para StyleGAN es un arreglo 512-dimensional. Estos seeds generaran estos 512 valores. Cada seed generará un diferente arreglo random. El mismo valor del seed siempre generará el mismo arreglo random, entonces siempre podremos usarlo para otros procesos como interpolación. \n",
        "\n",
        "`--trunc`: Esto setea el monto de truncation.\n",
        "\n",
        "`--outdir`: Donde guardar los resultados. \n",
        "\n",
        "`--dlatents=` Render image from projected latent vector `--dlatents=out/dlatents.npz`"
      ]
    },
    {
      "cell_type": "code",
      "metadata": {
        "id": "mrcWn-auDc-p"
      },
      "source": [
        "!python generate.py generate-images --network=\"/content/network.pkl\" --seeds=0,1,2,3,5,8,13,21 --outdir=\"./out/\" --trunc=0.5"
      ],
      "execution_count": null,
      "outputs": []
    },
    {
      "cell_type": "markdown",
      "metadata": {
        "id": "f1a0XwJDFQSK"
      },
      "source": [
        "Ahora miremos unas cuantas imagenes, asegurate que sean las mismas seed generadas anteriormente."
      ]
    },
    {
      "cell_type": "code",
      "metadata": {
        "id": "5JYzOj7lE8jp"
      },
      "source": [
        "listOfImageNames = ['/content/stylegan2-ada/out/seed0000.png',\n",
        "                    '/content/stylegan2-ada/out/seed0001.png',\n",
        "                    '/content/stylegan2-ada/out/seed0002.png',\n",
        "                    '/content/stylegan2-ada/out/seed0003.png',\n",
        "                    '/content/stylegan2-ada/out/seed0005.png',\n",
        "                    '/content/stylegan2-ada/out/seed0008.png',\n",
        "                    '/content/stylegan2-ada/out/seed0013.png',\n",
        "                    '/content/stylegan2-ada/out/seed0021.png',          ]\n",
        "display(HTML(make_img_grid(listOfImageNames, 200)))\n"
      ],
      "execution_count": null,
      "outputs": []
    },
    {
      "cell_type": "code",
      "metadata": {
        "id": "ujFn7f2KFFYr",
        "cellView": "form"
      },
      "source": [
        "#@markdown Comprimamos y descarguemos las imagenes generadas.\r\n",
        "!zip -r generated-out.zip /content/stylegan2-ada/out"
      ],
      "execution_count": null,
      "outputs": []
    },
    {
      "cell_type": "markdown",
      "metadata": {
        "id": "R89yl0wdgcmj"
      },
      "source": [
        "Nota: Los comandos anteriores guardaran las imagenes en la carpeta llamada `out`, si ya generaste y tienes cosas en la carpeta `out` asegurate de eliminarlo porque se incluirá en el zip. \r\n",
        "\r\n",
        "Para eliminar toda una carpeta desde colab, dale click a la siguiente celda: "
      ]
    },
    {
      "cell_type": "code",
      "metadata": {
        "id": "PA64kQmRgbva"
      },
      "source": [
        "!rm -r \"./out/\""
      ],
      "execution_count": null,
      "outputs": []
    },
    {
      "cell_type": "markdown",
      "metadata": {
        "id": "cg2_2g9M8mR-"
      },
      "source": [
        "#### Truncation transversal\r\n",
        "Truncation, trunca el espacio latente. Esto puede tener un sutil o dramatico efecto en las imagenes dependiendo del valor que uses. Mayormente se utiliza entre 0.5 y 1.0 para resultados coherentes con tu dataset, pero tecnicamente esto puede llegar hasta el infinito (+ y -). \r\n",
        "\r\n",
        "Abajo tu puedes tomar un seed y mirar como varia según el valor del truncation. -1 a 1 serán imagenes bastante realistas, pero alejandose de estos se vuelve más extraño. \r\n",
        "\r\n",
        "Opciones\r\n",
        "`--network`: La ruta de tu archivo .pkl\r\n",
        "\r\n",
        "`--seed`: Pasa solo una seed. Selecciona tu favorita de las generadas anteriormente. \r\n",
        "\r\n",
        "`--start`: Valor de truncation inicial.\r\n",
        "\r\n",
        "`--stop`: Valor de truncation final. Deberia ser diferente al inicial. Probablemente colapse sino.\r\n",
        "\r\n",
        "`--increment`: Que tanto debería incrementar el trucation entre cada frame. Asegurate que sea un valor bien pequeño si quieres una larga y lenta interpolación.\r\n",
        "\r\n",
        "(stop-start/increment=frames total)"
      ]
    },
    {
      "cell_type": "code",
      "metadata": {
        "id": "6Kwp4LF0NeGd"
      },
      "source": [
        "!python generate.py truncation-traversal --network=\"/content/network.pkl\" --seed=13 --start=-0.3 --stop=1.5 --increment=0.05 --outdir=\"./tt\" --fps=30"
      ],
      "execution_count": null,
      "outputs": []
    },
    {
      "cell_type": "markdown",
      "metadata": {
        "id": "9zNLI3R0hgFe"
      },
      "source": [
        "Ahora debería haber un video llamado: `truncation-traversal-seed-start-stop.mp4` en la carpeta `tt`. Puedes descargarlo con el click derecho.\n",
        "\n",
        "Si quieres visualizarlo desde colab, actualiza la ruta y ejecuta la siguiente celda.  "
      ]
    },
    {
      "cell_type": "code",
      "metadata": {
        "id": "mgTYPRYR8SJx"
      },
      "source": [
        "show_local_mp4_video(\"/content/stylegan2-ada/tt/truncation-traversal-seed13-start-0.3-stop1.5.mp4\", width=512, height=512)"
      ],
      "execution_count": null,
      "outputs": []
    },
    {
      "cell_type": "markdown",
      "metadata": {
        "id": "5cH9kpJOdRP1"
      },
      "source": [
        "### Interpolaciones\r\n",
        "Interpolacion es el proceso de aplicarle pequeños cambios a un vector, pareciendo asi una animacion de frame en frame."
      ]
    },
    {
      "cell_type": "markdown",
      "metadata": {
        "id": "nYZqiyFX81SR"
      },
      "source": [
        "Veremos dos diferentes formas de interpolar: interpolacion lineal y random noise loop.\n",
        "\n",
        "Ambos metodos requieren las siguientes opciones:\n",
        "\n",
        "`--network`\n",
        "\n",
        "`--walk-type`: Walk type define el tipo de interpolacion a usar. En algunos casos tambien puedes definir interpolar en el espacio latente z o w.\n",
        "\n",
        "`--frames`: Cuantos frames producir en total. Esto determinara el largo del video.\n",
        "\n",
        "`--trunc`: truncation value\n"
      ]
    },
    {
      "cell_type": "markdown",
      "metadata": {
        "id": "uflWRWSF9SAd"
      },
      "source": [
        "#### Interpolacion lineal en el espacio z\n",
        "\n",
        "Interpolacion lineal genera una linea entre una seed y otra. Los creadores de Stylegan dicen que esto produce resultados más *desenredados* (disentangled) en el espacio w. Pero empecemos mirandolo en el espacio z.\n",
        "\n",
        "`--seeds`: Usa las imagenes creadas previamente para controlar los puntos de interpolacion. Si tu primera y ultima seed son la misma producira un loop (ideal para instagram y gifs!)"
      ]
    },
    {
      "cell_type": "code",
      "metadata": {
        "id": "6KVRdr0Un-Xl"
      },
      "source": [
        "!python generate.py generate-latent-walk --network=\"/content/network.pkl\" --walk-type=\"line-z\" --seeds=0,1,2,3,8,13,21,0 --outdir=\"./z-walk\" --frames 600"
      ],
      "execution_count": null,
      "outputs": []
    },
    {
      "cell_type": "markdown",
      "metadata": {
        "id": "-Bdl6n3aDSo6"
      },
      "source": [
        "\r\n",
        "Si quieres visualizarlo desde colab, actualiza la ruta y ejecuta la siguiente celda.  "
      ]
    },
    {
      "cell_type": "code",
      "metadata": {
        "id": "RbkpFvm1JhsB"
      },
      "source": [
        "show_local_mp4_video(\"/content/stylegan2-ada/z-walk/---.mp4\", width=512, height=512)"
      ],
      "execution_count": null,
      "outputs": []
    },
    {
      "cell_type": "markdown",
      "metadata": {
        "id": "Wnaeu4Qw9Pm1"
      },
      "source": [
        "#### Interpolacion lineal en el espacio w\n",
        "Ahora miremos la interpolacion lineal en el espacio w. Oara esto seteamos `--walk-type` a `line-w`.\n",
        "\n",
        "Recomendamos usar las mismas seeds del anterior para ver la diferencia entre ambas. Es bien sutil pero es diferente."
      ]
    },
    {
      "cell_type": "code",
      "metadata": {
        "id": "I9PFflGACktY"
      },
      "source": [
        "!python generate.py generate-latent-walk --network=\"/content/network.pkl\" --walk-type=\"line-w\" --seeds=0,1,2,3,8,13,21,0 --outdir=\"./w-walk\" --frames 600  --trunc=0.95"
      ],
      "execution_count": null,
      "outputs": []
    },
    {
      "cell_type": "markdown",
      "metadata": {
        "id": "wxkAP7T4Gzcr"
      },
      "source": [
        "\r\n",
        "Si quieres visualizarlo desde colab, actualiza la ruta y ejecuta la siguiente celda.  "
      ]
    },
    {
      "cell_type": "code",
      "metadata": {
        "id": "n7DKYVaJJqJC"
      },
      "source": [
        "show_local_mp4_video(\"/content/stylegan2-ada/w-walk/walk-w-line0-1-2-3-8-13-21-0-24fps.mp4\", width=512, height=512)"
      ],
      "execution_count": null,
      "outputs": []
    },
    {
      "cell_type": "markdown",
      "metadata": {
        "id": "o51FJ7fk9bsl"
      },
      "source": [
        "#### Interpolacion de Noise Loop\n",
        "\n",
        "Si quieres crear interpolaciones random de tu modelo, noise loop es el ideal. Crea una linea random a traves del espacio latente z, generando asi imagenes diversas. It creates a random path thru the z space to show you a diverse set of images.\n",
        "\n",
        "`--diameter`: Esto controla que tan \"ancho\" el loop será. El hacerlo más pequeño genera un set menos diverso de samples. Hacerlo más largo generar un set más diverso de samples, así mismo más cantidad de samples. Esto junto a `--frames` puede ayudar a determinar que tan rapido se siente el video. \n",
        "\n",
        "`--start_seed`: Esto permite cambiar el punto de inicio en el espacio z. Nota: esta seed no tiene relacion con las seeds usadas anteriormente para generar imagenes. Solo permite que cambies el punto del centro del loop (asi puedes regresar a este usando denuevo esta seed)."
      ]
    },
    {
      "cell_type": "code",
      "metadata": {
        "id": "Qbap7Trm22Wm"
      },
      "source": [
        "!python generate.py generate-latent-walk --network=\"/content/network.pkl\" --walk-type=\"noiseloop\" --start_seed=999 --outdir=\"./noise1\" --diameter=8.0 --frames=500"
      ],
      "execution_count": null,
      "outputs": []
    },
    {
      "cell_type": "markdown",
      "metadata": {
        "id": "RCqFa100H_SB"
      },
      "source": [
        "Si quieres visualizarlo desde colab, actualiza la ruta y ejecuta la siguiente celda."
      ]
    },
    {
      "cell_type": "code",
      "metadata": {
        "id": "5yRlGe8yMSCG"
      },
      "source": [
        "show_local_mp4_video(\"/content/stylegan2-ada/noise1/walk-z-noiseloop-seed999-24fps.mp4\", width=512, height=512)"
      ],
      "execution_count": null,
      "outputs": []
    },
    {
      "cell_type": "markdown",
      "metadata": {
        "id": "_YSz50IPdA8S"
      },
      "source": [
        "### Style Mixing, Mezcla de estilo"
      ]
    },
    {
      "cell_type": "markdown",
      "metadata": {
        "id": "wEIH2vJY9t4d"
      },
      "source": [
        "Ya que las seeds son solo puntos en un espacio vectorial multidimensional, podemos aplicarle operaciones matematicas a estos, como por ejemplo sumarlos entre si. Esto se podria hacer mediante interpolacion, usando el frame de al medio, pero si quieres ver las diferentes opciones aqui hay un script simple para hacerlo. Esto toma un numero de seeds para producir una grilla mostrando que pasa cuando se suman las filas y columnas entre si (esto tendra más sentido despues de ejecutarlo)."
      ]
    },
    {
      "cell_type": "code",
      "metadata": {
        "id": "MGmdhswIOfwG"
      },
      "source": [
        "!python style_mixing.py --outdir=\"./stylemix\" --rows=0,1,2,3 --cols=5,8,13,21 --network=\"/content/network.pkl\""
      ],
      "execution_count": null,
      "outputs": []
    },
    {
      "cell_type": "markdown",
      "metadata": {
        "id": "Ud6T2DDvHT_q"
      },
      "source": [
        "### Proyeccion"
      ]
    },
    {
      "cell_type": "markdown",
      "metadata": {
        "id": "wlh4-drg90VV"
      },
      "source": [
        "Proyeccion es el proceso de tomar una imagen de fuera del modelo (no generada ni usada en el dataset original) y encontrar su mas parecida representacion dentro del modelo.\r\n",
        "\r\n",
        "Primero, creemos unas carpetas donde subiremos las imagenes."
      ]
    },
    {
      "cell_type": "code",
      "metadata": {
        "id": "AO76JgwvE4b_"
      },
      "source": [
        "!mkdir uploads; mkdir aligned"
      ],
      "execution_count": null,
      "outputs": []
    },
    {
      "cell_type": "markdown",
      "metadata": {
        "id": "ezoKhE2VKRbW"
      },
      "source": [
        "Ahora, sube una imagen a la carpeta `uploads`. Recomiendo encontrar un retrato a una resoucion decente (~1500px)\n",
        "\n",
        "Luego necesitamos asegurarnos que el retrato este alineado similar al dataset, ejecuta la siguiente celda para alinear la imagen.\n",
        "\n",
        "***solo si estas usando un dataset de caras de personas.***"
      ]
    },
    {
      "cell_type": "code",
      "metadata": {
        "id": "lXjhZ1BkEtEs"
      },
      "source": [
        "!python align_faces.py ./uploads ./aligned"
      ],
      "execution_count": null,
      "outputs": []
    },
    {
      "cell_type": "markdown",
      "metadata": {
        "id": "G8u7ZEuKKsgO"
      },
      "source": [
        "Ahora estamos listos para procesar la proyeccion.\n",
        "\n",
        "#### Opciones \n",
        "`--target`: sube una imagen que quieras proyectar dentro del modelo, luego setea la opcion `--target` con su ruta. Esta puede ser cualquier imagen, mientras mantenga la misma relacion de aspecto con dataset que fue entrenado el modelo.\n",
        "\n",
        "`--network`: la ruta de tu modelo. \n"
      ]
    },
    {
      "cell_type": "code",
      "metadata": {
        "id": "38j4dj3eHWYq"
      },
      "source": [
        "!python projector.py --outdir=\"./projection\" --target=/content/stylegan2-ada/aligned/br_01.png --network=\"/content/network.pkl\""
      ],
      "execution_count": null,
      "outputs": []
    },
    {
      "cell_type": "markdown",
      "metadata": {
        "id": "9phR9zUXXwMu"
      },
      "source": [
        "Si quieres visualizarlo desde colab, actualiza la ruta y ejecuta la siguiente celda."
      ]
    },
    {
      "cell_type": "code",
      "metadata": {
        "id": "3ibR9qRZP5fA"
      },
      "source": [
        "show_local_mp4_video(\"/content/stylegan2-ada/projection/proj.mp4\", width=1024, height=512)"
      ],
      "execution_count": null,
      "outputs": []
    },
    {
      "cell_type": "markdown",
      "metadata": {
        "id": "8IwsjWIwcyUM"
      },
      "source": [
        "## Diversion: Flesh Digressions"
      ]
    },
    {
      "cell_type": "markdown",
      "metadata": {
        "id": "-zaDq47Fm8PP"
      },
      "source": [
        "[Flesh Digressions](https://aydao.ai/artwork/2020/01/17/fleshdigressions.html) es una tecnica desarrollada por [aydao](https://twitter.com/aydaogman). Este comando generara un video flesh digressions llamado `circular-25-10-2020-09-00-34-PM.mp4`."
      ]
    },
    {
      "cell_type": "code",
      "metadata": {
        "id": "ZrTLOxHcc0WZ"
      },
      "source": [
        "!python aydao_flesh_digressions.py --pkl \"/content/network.pkl\" --psi=0.6 --radius_small=40.0 --radius_large=300.00"
      ],
      "execution_count": null,
      "outputs": []
    },
    {
      "cell_type": "markdown",
      "metadata": {
        "id": "AGQ1uu_IX1Fq"
      },
      "source": [
        "Si quieres visualizarlo desde colab, actualiza la ruta y ejecuta la siguiente celda."
      ]
    },
    {
      "cell_type": "code",
      "metadata": {
        "id": "S84ETmHyQOzF"
      },
      "source": [
        "show_local_mp4_video(\"./circular-27-10-2020-10-52-03-PM.mp4\", width=512, height=512)"
      ],
      "execution_count": null,
      "outputs": []
    }
  ]
}